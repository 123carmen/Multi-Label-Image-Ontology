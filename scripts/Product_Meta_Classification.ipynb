{
 "cells": [
  {
   "cell_type": "code",
   "execution_count": 1,
   "metadata": {},
   "outputs": [],
   "source": [
    "import os\n",
    "import sys\n",
    "import csv\n",
    "import numpy as np\n",
    "import pandas as pd"
   ]
  },
  {
   "cell_type": "code",
   "execution_count": 2,
   "metadata": {},
   "outputs": [],
   "source": [
    "## Import Image Label File\n",
    "product_meta = pd.read_csv('product_meta.csv')"
   ]
  },
  {
   "cell_type": "code",
   "execution_count": 3,
   "metadata": {},
   "outputs": [],
   "source": [
    "## Import Class file and create a list of all the labels\n",
    "class_list = pd.read_csv('classes.csv')\n",
    "class_labels = class_list['label'].to_list()"
   ]
  },
  {
   "cell_type": "code",
   "execution_count": 4,
   "metadata": {},
   "outputs": [],
   "source": [
    "## Eliminate labels that aren't relevant to the clothing domain\n",
    "product_meta2 = product_meta[product_meta['label'].isin(class_labels)]"
   ]
  },
  {
   "cell_type": "code",
   "execution_count": 7,
   "metadata": {},
   "outputs": [],
   "source": [
    "## Merge classification dataframe with product dataframe\n",
    "product_merged = pd.merge(product_meta, class_list, on='label')"
   ]
  },
  {
   "cell_type": "code",
   "execution_count": 8,
   "metadata": {},
   "outputs": [],
   "source": [
    "## Sort DataFrame by product_id and tier_domain to assist in quicker processing later\n",
    "products_sorted = product_merged.sort_values(by=['product_id', 'tier_domain'])"
   ]
  },
  {
   "cell_type": "code",
   "execution_count": 9,
   "metadata": {},
   "outputs": [],
   "source": [
    "## Groups the data by product_id and tier_domain and creates a rank based on the confidence\n",
    "## Take only the top rank of each tier_domain\n",
    "products_sorted['tier_domain_rank'] = products_sorted.groupby(['product_id', 'tier_domain'])['confidence'].rank(method='first',ascending=False)\n",
    "products_reduced = products_sorted[products_sorted['tier_domain_rank'] == 1]"
   ]
  },
  {
   "cell_type": "code",
   "execution_count": 12,
   "metadata": {},
   "outputs": [],
   "source": [
    "## Reduce the DataFrame to just the columns needed\n",
    "product_pre_pivot = products_reduced[['label', 'product_id', 'tier_domain', 'domain', 'domain_restrictions']]"
   ]
  },
  {
   "cell_type": "code",
   "execution_count": 15,
   "metadata": {},
   "outputs": [],
   "source": [
    "## Pivot rows into columns to show all labels for an image in one row\n",
    "product_pivoted = product_pre_pivot.pivot(index='product_id', columns='tier_domain', values=['label', 'domain', 'domain_restrictions'])"
   ]
  },
  {
   "cell_type": "code",
   "execution_count": 19,
   "metadata": {},
   "outputs": [],
   "source": [
    "product_pivoted.to_csv('pivtoted_out.csv')"
   ]
  },
  {
   "cell_type": "code",
   "execution_count": null,
   "metadata": {},
   "outputs": [],
   "source": [
    "## Manually change the Headers in the file based on the sample. It's quicker than doing it programmatically"
   ]
  },
  {
   "cell_type": "code",
   "execution_count": 21,
   "metadata": {},
   "outputs": [],
   "source": [
    "product_meta = pd.read_csv('pivtoted_out.csv')\n",
    "product_meta.set_index('Image', inplace=True)\n",
    "product_meta.fillna(0, inplace=True)"
   ]
  },
  {
   "cell_type": "code",
   "execution_count": 22,
   "metadata": {},
   "outputs": [],
   "source": [
    "## Classification Logic. Ensure that all the labels fall into their same super domain \n",
    "for n in range(1,7):\n",
    "    product_meta['Object'+ str(n)] = np.where(np.logical_or(\n",
    "    product_meta['Object'+str(n-1)+'_domain'] == product_meta['Object'+str(n)+'_domain'],\n",
    "    product_meta['Object'+str(n-1)+'_domain'] == 0),\n",
    "    product_meta['Object'+str(n)] ,0)\n",
    "    product_meta['Object'+str(n)+'_domain'] = product_meta['Object'+str(n-1)+'_domain']"
   ]
  },
  {
   "cell_type": "code",
   "execution_count": 27,
   "metadata": {},
   "outputs": [],
   "source": [
    "## Clean up dataframe by dropping unnecessary columns and fill Nan with a numerical value\n",
    "product_meta.drop(['Object0_domain','Object1_domain','Object2_domain','Object3_domain','Object4_domain','Object5_domain','Object6_domain'], axis=1, inplace=True)"
   ]
  },
  {
   "cell_type": "code",
   "execution_count": 28,
   "metadata": {},
   "outputs": [],
   "source": [
    "## Classification logic. Ensure that all the labels fall into their respective sub domains within their super domains\n",
    "for n in range(1,7):\n",
    "    product_meta['Object'+ str(n)] = np.where(np.logical_or(\n",
    "        product_meta['Object'+str(n)+'_restriction'] ==  product_meta['Object'+str(n-1)],\n",
    "        product_meta['Object'+str(n)+'_restriction'] == 0),\n",
    "                                              product_meta['Object'+ str(n)],0)"
   ]
  },
  {
   "cell_type": "code",
   "execution_count": 29,
   "metadata": {},
   "outputs": [],
   "source": [
    "## Clean up dataframe by dropping unnecessary columns\n",
    "product_meta.drop(['Object0_restriction','Object1_restriction','Object2_restriction','Object3_restriction','Object4_restriction','Object5_restriction','Object6_restriction'], axis=1, inplace=True)"
   ]
  },
  {
   "cell_type": "code",
   "execution_count": 32,
   "metadata": {},
   "outputs": [],
   "source": [
    "product_meta.to_csv('product_final.csv')"
   ]
  },
  {
   "cell_type": "code",
   "execution_count": null,
   "metadata": {},
   "outputs": [],
   "source": [
    "# In Excel manually remove all the 0's in the Object columns only. Be sure to not replace the 0's in the Image ID column"
   ]
  }
 ],
 "metadata": {
  "kernelspec": {
   "display_name": "Python 3",
   "language": "python",
   "name": "python3"
  },
  "language_info": {
   "codemirror_mode": {
    "name": "ipython",
    "version": 3
   },
   "file_extension": ".py",
   "mimetype": "text/x-python",
   "name": "python",
   "nbconvert_exporter": "python",
   "pygments_lexer": "ipython3",
   "version": "3.6.8"
  }
 },
 "nbformat": 4,
 "nbformat_minor": 2
}
