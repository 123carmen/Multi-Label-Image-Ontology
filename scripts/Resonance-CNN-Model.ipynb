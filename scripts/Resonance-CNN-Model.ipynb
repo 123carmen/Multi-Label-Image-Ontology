{
 "cells": [
  {
   "cell_type": "markdown",
   "metadata": {},
   "source": [
    "# Justification for Existing over Trained\n",
    "\n",
    "## Overview\n",
    "\n",
    "Initially I had built a Convolutional Neural Network [CNN] model to learn the image classifiers as seen below. In the sample it shows only one epoch. I initially trained it using ten with a resulting 92.4% accuracy on the FMNIST dataset. I looked at other datasets such as MS-COCO and ImageNet as well but ultimately didn't go with this approach. Given more time I would have tested both of those further.\n",
    "\n",
    "## Factors\n",
    "\n",
    "I'll discuss each of the below factors in detail and how they played a part in my decision. \n",
    "\n",
    "1. Don't Reinvent the Wheel\n",
    "2. Time Constraints\n",
    "3. Multi-Label vs. Single-Label\n",
    "4. Training Dataset/Simplicity\n",
    "\n",
    "### Don't Reinvent the Wheel\n",
    "\n",
    "I thought to put this one last because it seems more like an excuse than a justification, but I think it's important. Given the fact that there is a very robust, accessible, and well tested Multi-Label classifier in existence it would have been foolish of me to create my own unless there were very apparent shortcomings of this method. Not to mention it was free. I couldn't have replicated the output of this model given only a weeks time which made the decision easy. I wanted results.\n",
    "\n",
    "### Time Constraints\n",
    "\n",
    "Because the assignment was not only to classify the images and the expected delivery was roughly a week it meant that at most you would probably only have two or three days to complete the classification component. To get a model created in that time isn't necessarily an impossible feat as seen below. CNN models are quite easy to build using Keras, however in order to fine tune the model and test it on the resonance dataset, it would have taken more time and likely would have limited me to only being able to complete this component of the assignment.\n",
    "\n",
    "### Multi-Label vs. Single-Label\n",
    "\n",
    "The complexity of a model is significantly increased when you add multipart classification. For example if you look at the following output\n",
    "```\n",
    "Apparel->Female->Clothing->Shirt->Dress Shirt\n",
    "```\n",
    "With a single label classifier you may only get the label of \"Shirt\" (depending on your dataset). This wouldn't lend itself well to creating an ontology since most labels would fall within the same tier. \n",
    "\n",
    "Why is Multi-Label more complicated? You are expanding the domain. You need to include a larger dataset which adds not only discovery time to the assignment but also training time. Instead of using a local machine you may need to provision an environment in the cloud with more processing power. This would have cost money to achieve (possibly).\n",
    "\n",
    "### Training Dataset/ Simplicity\n",
    "\n",
    "This is one of the most important points listed here. Even if you have the perfect model exoskeleton, it needs to be trained on a diverse dataset. Since the domain of the resonance images was not given it could not be assumed all the images feel under one category. Such as this little guy\n",
    "\n",
    "![alt text](../images/image_2.jpg)\n",
    "\n",
    "The training dataset such as FMNIST only included 10 categories for example. A well referenced and widely used fashion domain dataset that in all honesty wasn't nearly robust enough for this assignment. Like I mentioned before there are other datasets out there such as CoCo that could have worked but didn't satisfy the multi-label component that was needed.\n",
    "\n",
    "### Conclusion\n",
    "\n",
    "Given more time I think a proper model could have been developed that satisfies the classification needs of the Resonance dataset. I think taking the time to understand in depth the images we were working with would be necessary and finding the correct training set to match. \n"
   ]
  },
  {
   "cell_type": "code",
   "execution_count": 47,
   "metadata": {},
   "outputs": [],
   "source": [
    "import keras\n",
    "from keras.datasets import fashion_mnist\n",
    "from keras.layers import Conv2D, MaxPool2D, Flatten\n",
    "from keras.layers import Dense, Dropout\n",
    "from keras.preprocessing import image"
   ]
  },
  {
   "cell_type": "code",
   "execution_count": 61,
   "metadata": {},
   "outputs": [],
   "source": [
    "(x_train, y_train), (x_test, y_test) = fashion_mnist.load_data()"
   ]
  },
  {
   "cell_type": "code",
   "execution_count": 62,
   "metadata": {},
   "outputs": [
    {
     "data": {
      "text/plain": [
       "<matplotlib.image.AxesImage at 0x29a04c30710>"
      ]
     },
     "execution_count": 62,
     "metadata": {},
     "output_type": "execute_result"
    },
    {
     "data": {
      "image/png": "[encoded data removed]",
      "text/plain": [
       "<Figure size 432x288 with 1 Axes>"
      ]
     },
     "metadata": {
      "needs_background": "light"
     },
     "output_type": "display_data"
    }
   ],
   "source": [
    "plt.imshow(x_train[0])"
   ]
  },
  {
   "cell_type": "code",
   "execution_count": 59,
   "metadata": {},
   "outputs": [],
   "source": [
    "x_train = x_train.reshape([-1, 28, 28, 1])\n",
    "x_test = x_test.reshape([-1, 28, 28, 1])\n",
    "x_train = x_train/255\n",
    "x_test = x_test/255"
   ]
  },
  {
   "cell_type": "code",
   "execution_count": 22,
   "metadata": {},
   "outputs": [
    {
     "name": "stdout",
     "output_type": "stream",
     "text": [
      "_________________________________________________________________\n",
      "Layer (type)                 Output Shape              Param #   \n",
      "=================================================================\n",
      "conv2d_6 (Conv2D)            (None, 28, 28, 32)        832       \n",
      "_________________________________________________________________\n",
      "max_pooling2d_6 (MaxPooling2 (None, 14, 14, 32)        0         \n",
      "_________________________________________________________________\n",
      "conv2d_7 (Conv2D)            (None, 14, 14, 64)        51264     \n",
      "_________________________________________________________________\n",
      "max_pooling2d_7 (MaxPooling2 (None, 7, 7, 64)          0         \n",
      "_________________________________________________________________\n",
      "flatten_3 (Flatten)          (None, 3136)              0         \n",
      "_________________________________________________________________\n",
      "dense_6 (Dense)              (None, 1024)              3212288   \n",
      "_________________________________________________________________\n",
      "dropout_5 (Dropout)          (None, 1024)              0         \n",
      "_________________________________________________________________\n",
      "dense_7 (Dense)              (None, 10)                10250     \n",
      "=================================================================\n",
      "Total params: 3,274,634\n",
      "Trainable params: 3,274,634\n",
      "Non-trainable params: 0\n",
      "_________________________________________________________________\n"
     ]
    }
   ],
   "source": [
    "model = keras.models.Sequential([\n",
    "    keras.layers.Conv2D(32, (5, 5), padding=\"same\", input_shape=[28, 28, 1]),\n",
    "    keras.layers.MaxPool2D((2,2)),\n",
    "    keras.layers.Conv2D(64, (5, 5), padding=\"same\"),\n",
    "    keras.layers.MaxPool2D((2,2)),\n",
    "    keras.layers.Flatten(),\n",
    "    keras.layers.Dense(1024, activation='relu'),\n",
    "    keras.layers.Dropout(0.5),\n",
    "    keras.layers.Dense(10, activation='softmax')\n",
    "])\n",
    "model.summary()"
   ]
  },
  {
   "cell_type": "code",
   "execution_count": 30,
   "metadata": {},
   "outputs": [],
   "source": [
    "y_train = keras.utils.np_utils.to_categorical(y_train)\n",
    "y_test = keras.utils.np_utils.to_categorical(y_train)"
   ]
  },
  {
   "cell_type": "code",
   "execution_count": 41,
   "metadata": {},
   "outputs": [
    {
     "name": "stdout",
     "output_type": "stream",
     "text": [
      "[[1. 0.]\n",
      " [1. 0.]\n",
      " [1. 0.]\n",
      " [1. 0.]\n",
      " [1. 0.]\n",
      " [1. 0.]\n",
      " [1. 0.]\n",
      " [1. 0.]\n",
      " [1. 0.]\n",
      " [0. 1.]]\n"
     ]
    }
   ],
   "source": [
    "print(y_test[0])"
   ]
  },
  {
   "cell_type": "code",
   "execution_count": 32,
   "metadata": {},
   "outputs": [],
   "source": [
    "model.compile(loss='categorical_crossentropy',\n",
    "             optimizer='adam',\n",
    "             metrics=['accuracy'])"
   ]
  },
  {
   "cell_type": "code",
   "execution_count": 39,
   "metadata": {},
   "outputs": [
    {
     "name": "stdout",
     "output_type": "stream",
     "text": [
      "Train on 54000 samples, validate on 6000 samples\n",
      "Epoch 1/1\n",
      " - 223s - loss: 0.0561 - acc: 0.9831 - val_loss: 0.5119 - val_acc: 0.9167\n"
     ]
    },
    {
     "data": {
      "text/plain": [
       "<tensorflow.python.keras.callbacks.History at 0x29a046d0f28>"
      ]
     },
     "execution_count": 39,
     "metadata": {},
     "output_type": "execute_result"
    }
   ],
   "source": [
    "model.fit(x_train, y_train, validation_split=0.10, batch_size=64, epochs=1, verbose=2)"
   ]
  },
  {
   "cell_type": "code",
   "execution_count": 35,
   "metadata": {},
   "outputs": [],
   "source": [
    "model.save('fashion_model_test.h5')"
   ]
  },
  {
   "cell_type": "code",
   "execution_count": 80,
   "metadata": {},
   "outputs": [],
   "source": [
    "img_path = 'C:/Users/dakin/Documents/Development/ResonanceCompanies/imageSet/0b62cdbaecf94c2ac922ce6e43038b7d/image_1.jpg'\n",
    "img = image.load_img(img_path)\n",
    "img_data = img_data.reshape([-1, 28, 28, 1])\n",
    "img_data = img_data/255"
   ]
  },
  {
   "cell_type": "code",
   "execution_count": 81,
   "metadata": {},
   "outputs": [
    {
     "data": {
      "text/plain": [
       "6"
      ]
     },
     "execution_count": 81,
     "metadata": {},
     "output_type": "execute_result"
    }
   ],
   "source": [
    "predictions = model.predict(img_data, batch_size=1)\n",
    "predictions[0]\n",
    "np.argmax(predictions[0])"
   ]
  }
 ],
 "metadata": {
  "kernelspec": {
   "display_name": "Python 3",
   "language": "python",
   "name": "python3"
  },
  "language_info": {
   "codemirror_mode": {
    "name": "ipython",
    "version": 3
   },
   "file_extension": ".py",
   "mimetype": "text/x-python",
   "name": "python",
   "nbconvert_exporter": "python",
   "pygments_lexer": "ipython3",
   "version": "3.6.8"
  }
 },
 "nbformat": 4,
 "nbformat_minor": 2
}
