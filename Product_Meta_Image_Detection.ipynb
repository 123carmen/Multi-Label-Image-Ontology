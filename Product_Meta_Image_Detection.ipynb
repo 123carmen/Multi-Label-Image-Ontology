{
 "cells": [
  {
   "cell_type": "code",
   "execution_count": null,
   "metadata": {},
   "outputs": [],
   "source": [
    "import boto3\n",
    "import os\n",
    "import sys\n",
    "import csv\n",
    "import pandas as pd\n",
    "import imghdr"
   ]
  },
  {
   "cell_type": "code",
   "execution_count": null,
   "metadata": {},
   "outputs": [],
   "source": [
    "## AWS client \n",
    "client=boto3.client('rekognition')"
   ]
  },
  {
   "cell_type": "markdown",
   "metadata": {},
   "source": [
    "### Only Run this Section Once"
   ]
  },
  {
   "cell_type": "code",
   "execution_count": null,
   "metadata": {
    "scrolled": true
   },
   "outputs": [],
   "source": [
    "## Run recursive API call to AWS Rekognition for image classification\n",
    "main_dir = 'C:/Users/dakin/Documents/Development/ResonanceCompanies/imageSet/'\n",
    "product_list = []\n",
    "    \n",
    "for root, directories, filenames in os.walk(main_dir):\n",
    "    for filename in filenames:\n",
    "        \n",
    "        ## create product_id and select image file to examine\n",
    "        product_id = os.path.join(os.path.basename(root), filename)\n",
    "        imageFile = (os.path.join(root,filename))\n",
    "        if imghdr.what(imageFile) not in ['jpeg', 'png']:\n",
    "            continue\n",
    "        else:\n",
    "            ## open image and run label detection\n",
    "            with open(imageFile, 'rb') as image:\n",
    "                response = client.detect_labels(Image={'Bytes': image.read()}) #, MinConfidence=95\n",
    "\n",
    "            ## add label to dataframe as attribute\n",
    "            for label in response['Labels']:\n",
    "                product_list.append({'product_id' : product_id, \n",
    "                                     'label' : label['Name'] , \n",
    "                                     'confidence' : label['Confidence']})     "
   ]
  },
  {
   "cell_type": "code",
   "execution_count": null,
   "metadata": {},
   "outputs": [],
   "source": [
    "## Create Dataframe from list and export to CSV to be used in the next step\n",
    "product_meta = pd.DataFrame(product_list)\n",
    "product_meta.to_csv('product_meta.csv', encoding='utf-8')"
   ]
  }
 ],
 "metadata": {
  "kernelspec": {
   "display_name": "Python 3",
   "language": "python",
   "name": "python3"
  },
  "language_info": {
   "codemirror_mode": {
    "name": "ipython",
    "version": 3
   },
   "file_extension": ".py",
   "mimetype": "text/x-python",
   "name": "python",
   "nbconvert_exporter": "python",
   "pygments_lexer": "ipython3",
   "version": "3.6.8"
  }
 },
 "nbformat": 4,
 "nbformat_minor": 2
}
